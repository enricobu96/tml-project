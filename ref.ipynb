{
 "cells": [
  {
   "cell_type": "code",
   "execution_count": null,
   "metadata": {},
   "outputs": [],
   "source": [
    "import numpy as np\n",
    "import numpy.random as npr\n",
    "import matplotlib.pyplot as plt\n",
    "import pandas as pd\n",
    "from datetime import datetime\n",
    "from sklearn.model_selection import  train_test_split\n",
    "from sklearn.linear_model import LogisticRegression\n",
    "from aif360.metrics import ClassificationMetric\n",
    "from aif360.datasets import StandardDataset\n",
    "pd.set_option('display.max_columns', None)\n",
    "pd.set_option('display.max_rows', None)\n",
    "\n",
    "_night = ['22:', '23:', '00:', '01:', '02:', '03:', '04:', '05:', '06:', '07:']\n",
    "\n",
    "# data preprocessing\n",
    "data = pd.read_csv('data/police_project.csv')\n",
    "data = data.drop(['stop_date','county_name', 'driver_age_raw', 'violation_raw', 'stop_outcome', 'drugs_related_stop', 'search_type'], axis=1)\n",
    "data = data.dropna()\n",
    "data['stop_time'] = data['stop_time'].apply(lambda x: 0 if any(n in x for n in _night) else 1)\n",
    "data['driver_gender'] = data['driver_gender'].astype('category').cat.codes\n",
    "data['driver_race'] = data['driver_race'].astype('category').cat.codes\n",
    "data['violation'] = data['violation'].astype('category').cat.codes\n",
    "data['search_conducted'] = data['search_conducted'].astype('category').cat.codes\n",
    "data['is_arrested'] = data['is_arrested'].astype('category').cat.codes\n",
    "data['stop_duration'] = data['stop_duration'].astype('category').cat.codes\n",
    "\n",
    "data"
   ]
  }
 ],
 "metadata": {
  "interpreter": {
   "hash": "31f2aee4e71d21fbe5cf8b01ff0e069b9275f58929596ceb00d14d90e3e16cd6"
  },
  "kernelspec": {
   "display_name": "Python 3.7.3 64-bit",
   "language": "python",
   "name": "python3"
  },
  "language_info": {
   "codemirror_mode": {
    "name": "ipython",
    "version": 3
   },
   "file_extension": ".py",
   "mimetype": "text/x-python",
   "name": "python",
   "nbconvert_exporter": "python",
   "pygments_lexer": "ipython3",
   "version": "3.7.3"
  },
  "orig_nbformat": 4
 },
 "nbformat": 4,
 "nbformat_minor": 2
}
