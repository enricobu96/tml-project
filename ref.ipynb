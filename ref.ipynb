{
 "cells": [
  {
   "cell_type": "code",
   "execution_count": 8,
   "metadata": {},
   "outputs": [],
   "source": [
    "import numpy as np\n",
    "import tensorflow as tf\n",
    "\n",
    "np.random.seed(42)\n",
    "tf.random.set_seed(42)"
   ]
  },
  {
   "cell_type": "markdown",
   "metadata": {},
   "source": [
    "# Logistic regression without artificial bias"
   ]
  },
  {
   "cell_type": "markdown",
   "metadata": {},
   "source": [
    "## Without unbiasing"
   ]
  },
  {
   "cell_type": "code",
   "execution_count": 16,
   "metadata": {},
   "outputs": [
    {
     "name": "stdout",
     "output_type": "stream",
     "text": [
      " FOR: 0.5253164556962026 \n",
      " FORD: -0.5253164556962026 \n",
      " Accuracy score: 0.9660918539162747\n"
     ]
    },
    {
     "name": "stderr",
     "output_type": "stream",
     "text": [
      "invalid value encountered in double_scalars\n",
      "invalid value encountered in double_scalars\n"
     ]
    }
   ],
   "source": [
    "import numpy as np\n",
    "import numpy.random as npr\n",
    "import matplotlib.pyplot as plt\n",
    "import pandas as pd\n",
    "from datetime import datetime\n",
    "from sklearn.model_selection import  train_test_split\n",
    "from sklearn.linear_model import LogisticRegression\n",
    "from aif360.metrics import ClassificationMetric\n",
    "from aif360.datasets import StandardDataset, dataset\n",
    "from copy import copy\n",
    "import matplotlib.pyplot as plt\n",
    "pd.set_option('display.max_columns', None)\n",
    "_night = ['22:', '23:', '00:', '01:', '02:', '03:', '04:', '05:', '06:', '07:']\n",
    "\n",
    "# data preprocessing\n",
    "data = pd.read_csv('data/police_project.csv')\n",
    "data = data.drop(['stop_date','county_name', 'driver_age_raw', 'violation_raw', 'stop_outcome', 'drugs_related_stop', 'search_type'], axis=1)\n",
    "data = data.dropna()\n",
    "data['stop_time'] = data['stop_time'].apply(lambda x: 0 if any(n in x for n in _night) else 1)\n",
    "data['driver_gender'] = data['driver_gender'].astype('category').cat.codes\n",
    "data['driver_race'] = data['driver_race'].astype('category').cat.codes\n",
    "data['driver_race'] = data['driver_race'].apply(lambda x: 0 if x==3 else 1)\n",
    "data['violation'] = data['violation'].astype('category').cat.codes\n",
    "data['search_conducted'] = data['search_conducted'].astype('category').cat.codes\n",
    "data['is_arrested'] = data['is_arrested'].astype('category').cat.codes # 0 = False, 1 = True\n",
    "data['stop_duration'] = data['stop_duration'].astype('category').cat.codes\n",
    "\n",
    "# datasets\n",
    "X = data[data.columns.difference(['is_arrested'])]\n",
    "y = data['is_arrested']\n",
    "X_train, X_test, y_train, y_test = train_test_split(X, y, test_size=0.2, random_state=42)\n",
    "clf = LogisticRegression(max_iter=1000, ).fit(X_train, y_train)\n",
    "y_pred = clf.predict(X_test)\n",
    "\n",
    "# ai360\n",
    "priv_groups = [{'driver_race': 1}]\n",
    "unpriv_groups = [{'driver_race': 0}]\n",
    "dataset = pd.concat([X_test, y_test], axis=1)\n",
    "dataset = StandardDataset(dataset, label_name='is_arrested', favorable_classes=[0], protected_attribute_names=['driver_race'], privileged_classes=[[1]])\n",
    "classified_dataset = dataset.copy()\n",
    "classified_dataset.labels = y_pred\n",
    "\n",
    "# metrics\n",
    "class_metric = ClassificationMetric(dataset, classified_dataset, unprivileged_groups=unpriv_groups, privileged_groups=priv_groups)\n",
    "print(  \n",
    "    ' FOR:', class_metric.false_omission_rate(privileged=1),'\\n',\n",
    "    'FORD:', class_metric.false_omission_rate_difference(),'\\n',\n",
    "    'Accuracy score:', clf.score(X_test, y_test)\n",
    "    )"
   ]
  },
  {
   "cell_type": "markdown",
   "metadata": {},
   "source": [
    "## With unbiasing"
   ]
  },
  {
   "cell_type": "code",
   "execution_count": 17,
   "metadata": {},
   "outputs": [],
   "source": [
    "from aif360.sklearn.preprocessing import Reweighing\n",
    "coln = ['driver_race'] # stupid workaround for make it working\n",
    "X_train.index.names = coln\n",
    "rew = Reweighing(prot_attr='driver_race').fit_transform(X_train, y_train)\n",
    "un = np.unique(rew[1])\n",
    "cweights = {1: un[0], 0: un[1]}"
   ]
  },
  {
   "cell_type": "code",
   "execution_count": 18,
   "metadata": {},
   "outputs": [
    {
     "name": "stdout",
     "output_type": "stream",
     "text": [
      " FOR: 0.0 \n",
      " FORD: 0.0 \n",
      " Accuracy score: 0.9665563490681066\n"
     ]
    },
    {
     "name": "stderr",
     "output_type": "stream",
     "text": [
      "invalid value encountered in double_scalars\n",
      "invalid value encountered in double_scalars\n"
     ]
    }
   ],
   "source": [
    "# datasets\n",
    "X = data[data.columns.difference(['is_arrested'])]\n",
    "y = data['is_arrested']\n",
    "\n",
    "X_train, X_test, y_train, y_test = train_test_split(X, y, test_size=0.2, random_state=42)\n",
    "clf = LogisticRegression(class_weight=cweights, max_iter=1000).fit(X_train, y_train)\n",
    "y_pred = clf.predict(X_test)\n",
    "\n",
    "# ai360\n",
    "priv_groups = [{'driver_race': 1}]\n",
    "unpriv_groups = [{'driver_race': 0}]\n",
    "dataset = pd.concat([X_test, y_test], axis=1)\n",
    "dataset = StandardDataset(dataset, label_name='is_arrested', favorable_classes=[0], protected_attribute_names=['driver_race'], privileged_classes=[[1]])\n",
    "classified_dataset = dataset.copy()\n",
    "classified_dataset.labels = y_pred\n",
    "\n",
    "# metrics\n",
    "class_metric = ClassificationMetric(dataset, classified_dataset, unprivileged_groups=unpriv_groups, privileged_groups=priv_groups)\n",
    "print(  \n",
    "    ' FOR:', class_metric.false_omission_rate(privileged=1),'\\n',\n",
    "    'FORD:', class_metric.false_omission_rate_difference(),'\\n',\n",
    "    'Accuracy score:', clf.score(X_test, y_test)\n",
    "    )"
   ]
  },
  {
   "cell_type": "markdown",
   "metadata": {},
   "source": [
    "# Logistic regression with artificial bias"
   ]
  },
  {
   "cell_type": "markdown",
   "metadata": {},
   "source": [
    "## Without unbiasing"
   ]
  },
  {
   "cell_type": "code",
   "execution_count": 19,
   "metadata": {},
   "outputs": [
    {
     "name": "stdout",
     "output_type": "stream",
     "text": [
      " FOR: 0.6014906253639222 \n",
      " FORD: -0.6014906253639222 \n",
      " Accuracy score: 0.6016373454102073\n"
     ]
    }
   ],
   "source": [
    "import numpy as np\n",
    "import numpy.random as npr\n",
    "import matplotlib.pyplot as plt\n",
    "import pandas as pd\n",
    "from datetime import datetime\n",
    "from sklearn.model_selection import  train_test_split\n",
    "from sklearn.linear_model import LogisticRegression\n",
    "from aif360.metrics import ClassificationMetric\n",
    "from aif360.datasets import StandardDataset, dataset\n",
    "from copy import copy\n",
    "import matplotlib.pyplot as plt\n",
    "pd.set_option('display.max_columns', None)\n",
    "_night = ['22:', '23:', '00:', '01:', '02:', '03:', '04:', '05:', '06:', '07:']\n",
    "\n",
    "# data preprocessing\n",
    "data = pd.read_csv('data/police_project.csv')\n",
    "data = data.drop(['stop_date','county_name', 'driver_age_raw', 'violation_raw', 'stop_outcome', 'drugs_related_stop', 'search_type'], axis=1)\n",
    "data = data.dropna()\n",
    "data['stop_time'] = data['stop_time'].apply(lambda x: 0 if any(n in x for n in _night) else 1)\n",
    "data['driver_gender'] = data['driver_gender'].astype('category').cat.codes\n",
    "data['driver_race'] = data['driver_race'].astype('category').cat.codes\n",
    "data['driver_race'] = data['driver_race'].apply(lambda x: 0 if x==3 else 1)\n",
    "data['violation'] = data['violation'].astype('category').cat.codes\n",
    "data['search_conducted'] = data['search_conducted'].astype('category').cat.codes\n",
    "data['is_arrested'] = data['is_arrested'].astype('category').cat.codes # 0 = False, 1 = True\n",
    "data['stop_duration'] = data['stop_duration'].astype('category').cat.codes\n",
    "\n",
    "# add bias\n",
    "def perform_bias(x):\n",
    "    r_ch_nw = np.random.choice([0,1], p=[.6,.4])\n",
    "    r_ch_w = 1 - r_ch_nw\n",
    "    if  (x == 0 and r_ch_nw == 0) or (x == 1 and r_ch_w == 0):\n",
    "        return True\n",
    "    return False\n",
    "        \n",
    "data['is_arrested'] = data['driver_race'].apply(lambda x: perform_bias(x))\n",
    "\n",
    "# datasets\n",
    "X = data[data.columns.difference(['is_arrested'])]\n",
    "y = data['is_arrested']\n",
    "X_train, X_test, y_train, y_test = train_test_split(X, y, test_size=0.2, random_state=42)\n",
    "clf = LogisticRegression(max_iter=1000).fit(X_train, y_train)\n",
    "y_pred = clf.predict(X_test)\n",
    "\n",
    "# ai360\n",
    "priv_groups = [{'driver_race': 1}]\n",
    "unpriv_groups = [{'driver_race': 0}]\n",
    "dataset = pd.concat([X_test, y_test], axis=1)\n",
    "dataset = StandardDataset(dataset, label_name='is_arrested', favorable_classes=[0], protected_attribute_names=['driver_race'], privileged_classes=[[1]])\n",
    "classified_dataset = dataset.copy()\n",
    "classified_dataset.labels = y_pred\n",
    "\n",
    "# metrics\n",
    "class_metric = ClassificationMetric(dataset, classified_dataset, unprivileged_groups=unpriv_groups, privileged_groups=priv_groups)\n",
    "print(  \n",
    "    ' FOR:', class_metric.false_omission_rate(privileged=1),'\\n',\n",
    "    'FORD:', class_metric.false_omission_rate_difference(),'\\n',\n",
    "    'Accuracy score:', clf.score(X_test, y_test)\n",
    "    )"
   ]
  },
  {
   "cell_type": "markdown",
   "metadata": {},
   "source": [
    "## With unbiasing"
   ]
  },
  {
   "cell_type": "code",
   "execution_count": 20,
   "metadata": {},
   "outputs": [],
   "source": [
    "from aif360.sklearn.preprocessing import Reweighing\n",
    "coln = ['driver_race'] # stupid workaround for make it working\n",
    "X_train.index.names = coln\n",
    "rew = Reweighing(prot_attr='driver_race').fit_transform(X_train, y_train)\n",
    "un = np.unique(rew[1])\n",
    "cweights = {1: un[0], 0: un[1]}"
   ]
  },
  {
   "cell_type": "code",
   "execution_count": 21,
   "metadata": {},
   "outputs": [
    {
     "name": "stdout",
     "output_type": "stream",
     "text": [
      " FOR: 0.6014906253639222 \n",
      " FORD: -0.2545518498537181 \n",
      " Accuracy score: 0.6007664170005226\n"
     ]
    }
   ],
   "source": [
    "# datasets\n",
    "X = data[data.columns.difference(['is_arrested'])]\n",
    "y = data['is_arrested']\n",
    "\n",
    "X_train, X_test, y_train, y_test = train_test_split(X, y, test_size=0.2, random_state=42)\n",
    "clf = LogisticRegression(class_weight=cweights, max_iter=1000).fit(X_train, y_train)\n",
    "y_pred = clf.predict(X_test)\n",
    "\n",
    "# ai360\n",
    "priv_groups = [{'driver_race': 1}]\n",
    "unpriv_groups = [{'driver_race': 0}]\n",
    "dataset = pd.concat([X_test, y_test], axis=1)\n",
    "dataset = StandardDataset(dataset, label_name='is_arrested', favorable_classes=[0], protected_attribute_names=['driver_race'], privileged_classes=[[1]])\n",
    "classified_dataset = dataset.copy()\n",
    "classified_dataset.labels = y_pred\n",
    "\n",
    "# metrics\n",
    "class_metric = ClassificationMetric(dataset, classified_dataset, unprivileged_groups=unpriv_groups, privileged_groups=priv_groups)\n",
    "print(  \n",
    "    ' FOR:', class_metric.false_omission_rate(privileged=1),'\\n',\n",
    "    'FORD:', class_metric.false_omission_rate_difference(),'\\n',\n",
    "    'Accuracy score:', clf.score(X_test, y_test)\n",
    "    )"
   ]
  },
  {
   "cell_type": "markdown",
   "metadata": {},
   "source": [
    "# Neural Network without artificial bias"
   ]
  },
  {
   "cell_type": "markdown",
   "metadata": {},
   "source": [
    "## Without unbiasing"
   ]
  },
  {
   "cell_type": "code",
   "execution_count": 39,
   "metadata": {},
   "outputs": [
    {
     "name": "stdout",
     "output_type": "stream",
     "text": [
      " FOR: 0.5444444444444444 \n",
      " FORD: -0.5444444444444444 \n",
      " Accuracy score: 0.9660918539162747\n"
     ]
    },
    {
     "name": "stderr",
     "output_type": "stream",
     "text": [
      "invalid value encountered in double_scalars\n",
      "invalid value encountered in double_scalars\n"
     ]
    }
   ],
   "source": [
    "import numpy as np\n",
    "import numpy.random as npr\n",
    "import matplotlib.pyplot as plt\n",
    "import pandas as pd\n",
    "from datetime import datetime\n",
    "from sklearn.model_selection import  train_test_split\n",
    "from sklearn.linear_model import LogisticRegression\n",
    "from aif360.metrics import ClassificationMetric\n",
    "from aif360.datasets import StandardDataset, dataset\n",
    "from copy import copy\n",
    "import matplotlib.pyplot as plt\n",
    "from aif360.sklearn.inprocessing import AdversarialDebiasing\n",
    "import tensorflow as tf\n",
    "pd.set_option('display.max_columns', None)\n",
    "_night = ['22:', '23:', '00:', '01:', '02:', '03:', '04:', '05:', '06:', '07:']\n",
    "\n",
    "# data preprocessing\n",
    "data = pd.read_csv('data/police_project.csv')\n",
    "data = data.drop(['stop_date','county_name', 'driver_age_raw', 'violation_raw', 'stop_outcome', 'drugs_related_stop', 'search_type'], axis=1)\n",
    "data = data.dropna()\n",
    "data['stop_time'] = data['stop_time'].apply(lambda x: 0 if any(n in x for n in _night) else 1)\n",
    "data['driver_gender'] = data['driver_gender'].astype('category').cat.codes\n",
    "data['driver_race'] = data['driver_race'].astype('category').cat.codes\n",
    "data['driver_race'] = data['driver_race'].apply(lambda x: 0 if x==3 else 1)\n",
    "data['violation'] = data['violation'].astype('category').cat.codes\n",
    "data['search_conducted'] = data['search_conducted'].astype('category').cat.codes\n",
    "data['is_arrested'] = data['is_arrested'].astype('category').cat.codes # 0 = False, 1 = True\n",
    "data['stop_duration'] = data['stop_duration'].astype('category').cat.codes\n",
    "\n",
    "# datasets\n",
    "X = data[data.columns.difference(['is_arrested'])]\n",
    "y = data['is_arrested']\n",
    "X_train, X_test, y_train, y_test = train_test_split(X, y, test_size=0.2, random_state=42)\n",
    "\n",
    "coln = ['driver_race']\n",
    "X_train.index.names = coln\n",
    "tf.compat.v1.disable_eager_execution()\n",
    "advd = AdversarialDebiasing(\n",
    "    prot_attr='driver_race',\n",
    "    num_epochs=5,\n",
    "    batch_size=128,\n",
    "    classifier_num_hidden_units=100,\n",
    "    debias=False\n",
    "    ).fit(X_train,y_train)\n",
    "y_pred = advd.predict(X_test)\n",
    "\n",
    "# ai360\n",
    "priv_groups = [{'driver_race': 1}]\n",
    "unpriv_groups = [{'driver_race': 0}]\n",
    "dataset = pd.concat([X_test, y_test], axis=1)\n",
    "dataset = StandardDataset(dataset, label_name='is_arrested', favorable_classes=[0], protected_attribute_names=['driver_race'], privileged_classes=[[1]])\n",
    "classified_dataset = dataset.copy()\n",
    "classified_dataset.labels = y_pred\n",
    "\n",
    "# metrics\n",
    "class_metric = ClassificationMetric(dataset, classified_dataset, unprivileged_groups=unpriv_groups, privileged_groups=priv_groups)\n",
    "print(  \n",
    "    ' FOR:', class_metric.false_omission_rate(privileged=1),'\\n',\n",
    "    'FORD:', class_metric.false_omission_rate_difference(),'\\n',\n",
    "    'Accuracy score:', advd.score(X_test, y_test)\n",
    "    )"
   ]
  },
  {
   "cell_type": "markdown",
   "metadata": {},
   "source": [
    "## With unbiasing"
   ]
  },
  {
   "cell_type": "code",
   "execution_count": 40,
   "metadata": {},
   "outputs": [
    {
     "name": "stdout",
     "output_type": "stream",
     "text": [
      " FOR: 0.0 \n",
      " FORD: 0.0 \n",
      " Accuracy score: 0.9665563490681066\n"
     ]
    },
    {
     "name": "stderr",
     "output_type": "stream",
     "text": [
      "invalid value encountered in double_scalars\n",
      "invalid value encountered in double_scalars\n"
     ]
    }
   ],
   "source": [
    "from aif360.sklearn.inprocessing import AdversarialDebiasing\n",
    "import tensorflow as tf\n",
    "\n",
    "coln = ['driver_race']\n",
    "X_train.index.names = coln\n",
    "tf.compat.v1.disable_eager_execution()\n",
    "advd = AdversarialDebiasing(\n",
    "    prot_attr='driver_race',\n",
    "    num_epochs=5,\n",
    "    batch_size=128,\n",
    "    classifier_num_hidden_units=100,\n",
    "    ).fit(X_train,y_train)\n",
    "y_pred = advd.predict(X_test)\n",
    "\n",
    "# ai360\n",
    "priv_groups = [{'driver_race': 1}]\n",
    "unpriv_groups = [{'driver_race': 0}]\n",
    "dataset = pd.concat([X_test, y_test], axis=1)\n",
    "dataset = StandardDataset(dataset, label_name='is_arrested', favorable_classes=[0], protected_attribute_names=['driver_race'], privileged_classes=[[1]])\n",
    "classified_dataset = dataset.copy()\n",
    "classified_dataset.labels = y_pred\n",
    "\n",
    "# metrics\n",
    "class_metric = ClassificationMetric(dataset, classified_dataset, unprivileged_groups=unpriv_groups, privileged_groups=priv_groups)\n",
    "print(  \n",
    "    ' FOR:', class_metric.false_omission_rate(privileged=1),'\\n',\n",
    "    'FORD:', class_metric.false_omission_rate_difference(),'\\n',\n",
    "    'Accuracy score:', advd.score(X_test, y_test)\n",
    "    )"
   ]
  },
  {
   "cell_type": "markdown",
   "metadata": {},
   "source": [
    "# Neural network with artificial bias"
   ]
  },
  {
   "cell_type": "markdown",
   "metadata": {},
   "source": [
    "## Without unbiasing"
   ]
  },
  {
   "cell_type": "code",
   "execution_count": 41,
   "metadata": {},
   "outputs": [
    {
     "name": "stdout",
     "output_type": "stream",
     "text": [
      " FOR: 0.5946197740770933 \n",
      " FORD: -0.2680891618321954 \n",
      " Accuracy score: 0.5938570516170237\n"
     ]
    }
   ],
   "source": [
    "import numpy as np\n",
    "import numpy.random as npr\n",
    "import matplotlib.pyplot as plt\n",
    "import pandas as pd\n",
    "from datetime import datetime\n",
    "from sklearn.model_selection import  train_test_split\n",
    "from sklearn.linear_model import LogisticRegression\n",
    "from aif360.metrics import ClassificationMetric\n",
    "from aif360.datasets import StandardDataset, dataset\n",
    "from copy import copy\n",
    "import matplotlib.pyplot as plt\n",
    "from aif360.sklearn.inprocessing import AdversarialDebiasing\n",
    "import tensorflow as tf\n",
    "pd.set_option('display.max_columns', None)\n",
    "_night = ['22:', '23:', '00:', '01:', '02:', '03:', '04:', '05:', '06:', '07:']\n",
    "\n",
    "# data preprocessing\n",
    "data = pd.read_csv('data/police_project.csv')\n",
    "data = data.drop(['stop_date','county_name', 'driver_age_raw', 'violation_raw', 'stop_outcome', 'drugs_related_stop', 'search_type'], axis=1)\n",
    "data = data.dropna()\n",
    "data['stop_time'] = data['stop_time'].apply(lambda x: 0 if any(n in x for n in _night) else 1)\n",
    "data['driver_gender'] = data['driver_gender'].astype('category').cat.codes\n",
    "data['driver_race'] = data['driver_race'].astype('category').cat.codes\n",
    "data['driver_race'] = data['driver_race'].apply(lambda x: 0 if x==3 else 1)\n",
    "data['violation'] = data['violation'].astype('category').cat.codes\n",
    "data['search_conducted'] = data['search_conducted'].astype('category').cat.codes\n",
    "data['is_arrested'] = data['is_arrested'].astype('category').cat.codes # 0 = False, 1 = True\n",
    "data['stop_duration'] = data['stop_duration'].astype('category').cat.codes\n",
    "\n",
    "# add bias\n",
    "def perform_bias(x):\n",
    "    r_ch_nw = np.random.choice([0,1], p=[.6,.4])\n",
    "    r_ch_w = 1 - r_ch_nw\n",
    "    if  (x == 0 and r_ch_nw == 0) or (x == 1 and r_ch_w == 0):\n",
    "        return True\n",
    "    return False\n",
    "        \n",
    "data['is_arrested'] = data['driver_race'].apply(lambda x: perform_bias(x))\n",
    "\n",
    "# datasets\n",
    "X = data[data.columns.difference(['is_arrested'])]\n",
    "y = data['is_arrested']\n",
    "X_train, X_test, y_train, y_test = train_test_split(X, y, test_size=0.2, random_state=42)\n",
    "\n",
    "coln = ['driver_race']\n",
    "X_train.index.names = coln\n",
    "tf.compat.v1.disable_eager_execution()\n",
    "advd = AdversarialDebiasing(\n",
    "    prot_attr='driver_race',\n",
    "    num_epochs=5,\n",
    "    batch_size=128,\n",
    "    classifier_num_hidden_units=100,\n",
    "    debias=False\n",
    "    ).fit(X_train,y_train)\n",
    "y_pred = advd.predict(X_test)\n",
    "\n",
    "# ai360\n",
    "priv_groups = [{'driver_race': 1}]\n",
    "unpriv_groups = [{'driver_race': 0}]\n",
    "dataset = pd.concat([X_test, y_test], axis=1)\n",
    "dataset = StandardDataset(dataset, label_name='is_arrested', favorable_classes=[0], protected_attribute_names=['driver_race'], privileged_classes=[[1]])\n",
    "classified_dataset = dataset.copy()\n",
    "classified_dataset.labels = y_pred\n",
    "\n",
    "# metrics\n",
    "class_metric = ClassificationMetric(dataset, classified_dataset, unprivileged_groups=unpriv_groups, privileged_groups=priv_groups)\n",
    "print(  \n",
    "    ' FOR:', class_metric.false_omission_rate(privileged=1),'\\n',\n",
    "    'FORD:', class_metric.false_omission_rate_difference(),'\\n',\n",
    "    'Accuracy score:', advd.score(X_test, y_test)\n",
    "    )"
   ]
  },
  {
   "cell_type": "markdown",
   "metadata": {},
   "source": [
    "## With unbiasing"
   ]
  },
  {
   "cell_type": "code",
   "execution_count": 42,
   "metadata": {},
   "outputs": [
    {
     "name": "stdout",
     "output_type": "stream",
     "text": [
      " FOR: 0.5946197740770933 \n",
      " FORD: -0.2680891618321954 \n",
      " Accuracy score: 0.5938570516170237\n"
     ]
    }
   ],
   "source": [
    "from aif360.sklearn.inprocessing import AdversarialDebiasing\n",
    "import tensorflow as tf\n",
    "\n",
    "coln = ['driver_race']\n",
    "X_train.index.names = coln\n",
    "tf.compat.v1.disable_eager_execution()\n",
    "advd = AdversarialDebiasing(\n",
    "    prot_attr='driver_race',\n",
    "    num_epochs=5,\n",
    "    batch_size=128,\n",
    "    classifier_num_hidden_units=100,\n",
    "    ).fit(X_train,y_train)\n",
    "y_pred = advd.predict(X_test)\n",
    "\n",
    "# ai360\n",
    "priv_groups = [{'driver_race': 1}]\n",
    "unpriv_groups = [{'driver_race': 0}]\n",
    "dataset = pd.concat([X_test, y_test], axis=1)\n",
    "dataset = StandardDataset(dataset, label_name='is_arrested', favorable_classes=[0], protected_attribute_names=['driver_race'], privileged_classes=[[1]])\n",
    "classified_dataset = dataset.copy()\n",
    "classified_dataset.labels = y_pred\n",
    "\n",
    "# metrics\n",
    "class_metric = ClassificationMetric(dataset, classified_dataset, unprivileged_groups=unpriv_groups, privileged_groups=priv_groups)\n",
    "print(  \n",
    "    ' FOR:', class_metric.false_omission_rate(privileged=1),'\\n',\n",
    "    'FORD:', class_metric.false_omission_rate_difference(),'\\n',\n",
    "    'Accuracy score:', advd.score(X_test, y_test)\n",
    "    )"
   ]
  },
  {
   "cell_type": "markdown",
   "metadata": {},
   "source": [
    "# Logistic regression with postprocessing (no artificial bias)"
   ]
  },
  {
   "cell_type": "markdown",
   "metadata": {},
   "source": [
    "## Without unbiasing"
   ]
  },
  {
   "cell_type": "code",
   "execution_count": 43,
   "metadata": {},
   "outputs": [
    {
     "name": "stdout",
     "output_type": "stream",
     "text": [
      " FOR: 0.5253164556962026 \n",
      " FORD: -0.5253164556962026 \n",
      " Accuracy score: 0.9660918539162747\n"
     ]
    },
    {
     "name": "stderr",
     "output_type": "stream",
     "text": [
      "invalid value encountered in double_scalars\n",
      "invalid value encountered in double_scalars\n"
     ]
    }
   ],
   "source": [
    "import numpy as np\n",
    "import numpy.random as npr\n",
    "import matplotlib.pyplot as plt\n",
    "import pandas as pd\n",
    "from datetime import datetime\n",
    "from sklearn.model_selection import  train_test_split\n",
    "from sklearn.linear_model import LogisticRegression\n",
    "from aif360.metrics import ClassificationMetric\n",
    "from aif360.datasets import StandardDataset, dataset\n",
    "from copy import copy\n",
    "import matplotlib.pyplot as plt\n",
    "pd.set_option('display.max_columns', None)\n",
    "_night = ['22:', '23:', '00:', '01:', '02:', '03:', '04:', '05:', '06:', '07:']\n",
    "\n",
    "# data preprocessing\n",
    "data = pd.read_csv('data/police_project.csv')\n",
    "data = data.drop(['stop_date','county_name', 'driver_age_raw', 'violation_raw', 'stop_outcome', 'drugs_related_stop', 'search_type'], axis=1)\n",
    "data = data.dropna()\n",
    "data['stop_time'] = data['stop_time'].apply(lambda x: 0 if any(n in x for n in _night) else 1)\n",
    "data['driver_gender'] = data['driver_gender'].astype('category').cat.codes\n",
    "data['driver_race'] = data['driver_race'].astype('category').cat.codes\n",
    "data['driver_race'] = data['driver_race'].apply(lambda x: 0 if x==3 else 1)\n",
    "data['violation'] = data['violation'].astype('category').cat.codes\n",
    "data['search_conducted'] = data['search_conducted'].astype('category').cat.codes\n",
    "data['is_arrested'] = data['is_arrested'].astype('category').cat.codes # 0 = False, 1 = True\n",
    "data['stop_duration'] = data['stop_duration'].astype('category').cat.codes\n",
    "\n",
    "# datasets\n",
    "X = data[data.columns.difference(['is_arrested'])]\n",
    "y = data['is_arrested']\n",
    "X_train, X_test, y_train, y_test = train_test_split(X, y, test_size=0.2, random_state=42)\n",
    "clf = LogisticRegression(max_iter=1000, ).fit(X_train, y_train)\n",
    "y_pred = clf.predict(X_test)\n",
    "\n",
    "# ai360\n",
    "priv_groups = [{'driver_race': 1}]\n",
    "unpriv_groups = [{'driver_race': 0}]\n",
    "dataset = pd.concat([X_test, y_test], axis=1)\n",
    "dataset = StandardDataset(dataset, label_name='is_arrested', favorable_classes=[0], protected_attribute_names=['driver_race'], privileged_classes=[[1]])\n",
    "classified_dataset = dataset.copy()\n",
    "classified_dataset.labels = y_pred\n",
    "\n",
    "# metrics\n",
    "class_metric = ClassificationMetric(dataset, classified_dataset, unprivileged_groups=unpriv_groups, privileged_groups=priv_groups)\n",
    "print(  \n",
    "    ' FOR:', class_metric.false_omission_rate(privileged=1),'\\n',\n",
    "    'FORD:', class_metric.false_omission_rate_difference(),'\\n',\n",
    "    'Accuracy score:', clf.score(X_test, y_test)\n",
    "    )"
   ]
  },
  {
   "cell_type": "markdown",
   "metadata": {},
   "source": [
    "## With unbiasing"
   ]
  },
  {
   "cell_type": "code",
   "execution_count": 46,
   "metadata": {},
   "outputs": [
    {
     "ename": "ValueError",
     "evalue": "Some of the attributes provided are not present in the dataset. Expected a subset of:\n[]\nGot:\n['driver_race']",
     "output_type": "error",
     "traceback": [
      "\u001b[0;31m---------------------------------------------------------------------------\u001b[0m",
      "\u001b[0;31mValueError\u001b[0m                                Traceback (most recent call last)",
      "\u001b[0;32m/tmp/ipykernel_17549/4095287448.py\u001b[0m in \u001b[0;36m<module>\u001b[0;34m\u001b[0m\n\u001b[1;32m      4\u001b[0m \u001b[0mX_test\u001b[0m\u001b[0;34m.\u001b[0m\u001b[0mindex\u001b[0m\u001b[0;34m.\u001b[0m\u001b[0mnames\u001b[0m \u001b[0;34m=\u001b[0m \u001b[0mcoln\u001b[0m\u001b[0;34m\u001b[0m\u001b[0;34m\u001b[0m\u001b[0m\n\u001b[1;32m      5\u001b[0m \u001b[0;34m\u001b[0m\u001b[0m\n\u001b[0;32m----> 6\u001b[0;31m \u001b[0mceo\u001b[0m \u001b[0;34m=\u001b[0m \u001b[0mCalibratedEqualizedOdds\u001b[0m\u001b[0;34m(\u001b[0m\u001b[0mprot_attr\u001b[0m\u001b[0;34m=\u001b[0m\u001b[0;34m'driver_race'\u001b[0m\u001b[0;34m)\u001b[0m\u001b[0;34m.\u001b[0m\u001b[0mfit\u001b[0m\u001b[0;34m(\u001b[0m\u001b[0mX_test\u001b[0m\u001b[0;34m,\u001b[0m \u001b[0mpd\u001b[0m\u001b[0;34m.\u001b[0m\u001b[0mSeries\u001b[0m\u001b[0;34m(\u001b[0m\u001b[0my_pred\u001b[0m\u001b[0;34m)\u001b[0m\u001b[0;34m)\u001b[0m\u001b[0;34m\u001b[0m\u001b[0;34m\u001b[0m\u001b[0m\n\u001b[0m",
      "\u001b[0;32m~/.local/lib/python3.7/site-packages/aif360/sklearn/postprocessing/calibrated_equalized_odds.py\u001b[0m in \u001b[0;36mfit\u001b[0;34m(self, X, y, labels, pos_label, sample_weight)\u001b[0m\n\u001b[1;32m    102\u001b[0m         \u001b[0mX\u001b[0m\u001b[0;34m,\u001b[0m \u001b[0my\u001b[0m\u001b[0;34m,\u001b[0m \u001b[0msample_weight\u001b[0m \u001b[0;34m=\u001b[0m \u001b[0mcheck_inputs\u001b[0m\u001b[0;34m(\u001b[0m\u001b[0mX\u001b[0m\u001b[0;34m,\u001b[0m \u001b[0my\u001b[0m\u001b[0;34m,\u001b[0m \u001b[0msample_weight\u001b[0m\u001b[0;34m)\u001b[0m\u001b[0;34m\u001b[0m\u001b[0;34m\u001b[0m\u001b[0m\n\u001b[1;32m    103\u001b[0m         groups, self.prot_attr_ = check_groups(y, self.prot_attr,\n\u001b[0;32m--> 104\u001b[0;31m                                                ensure_binary=True)\n\u001b[0m\u001b[1;32m    105\u001b[0m         \u001b[0mself\u001b[0m\u001b[0;34m.\u001b[0m\u001b[0mclasses_\u001b[0m \u001b[0;34m=\u001b[0m \u001b[0mlabels\u001b[0m \u001b[0;32mif\u001b[0m \u001b[0mlabels\u001b[0m \u001b[0;32mis\u001b[0m \u001b[0;32mnot\u001b[0m \u001b[0;32mNone\u001b[0m \u001b[0;32melse\u001b[0m \u001b[0mnp\u001b[0m\u001b[0;34m.\u001b[0m\u001b[0munique\u001b[0m\u001b[0;34m(\u001b[0m\u001b[0my\u001b[0m\u001b[0;34m)\u001b[0m\u001b[0;34m\u001b[0m\u001b[0;34m\u001b[0m\u001b[0m\n\u001b[1;32m    106\u001b[0m         \u001b[0mself\u001b[0m\u001b[0;34m.\u001b[0m\u001b[0mgroups_\u001b[0m \u001b[0;34m=\u001b[0m \u001b[0mnp\u001b[0m\u001b[0;34m.\u001b[0m\u001b[0munique\u001b[0m\u001b[0;34m(\u001b[0m\u001b[0mgroups\u001b[0m\u001b[0;34m)\u001b[0m\u001b[0;34m\u001b[0m\u001b[0;34m\u001b[0m\u001b[0m\n",
      "\u001b[0;32m~/.local/lib/python3.7/site-packages/aif360/sklearn/utils.py\u001b[0m in \u001b[0;36mcheck_groups\u001b[0;34m(arr, prot_attr, ensure_binary)\u001b[0m\n\u001b[1;32m     81\u001b[0m         raise ValueError(\"Some of the attributes provided are not present \"\n\u001b[1;32m     82\u001b[0m                          \u001b[0;34m\"in the dataset. Expected a subset of:\\n{}\\nGot:\\n\"\u001b[0m\u001b[0;34m\u001b[0m\u001b[0;34m\u001b[0m\u001b[0m\n\u001b[0;32m---> 83\u001b[0;31m                          \"{}\".format(all_prot_attrs, prot_attr))\n\u001b[0m\u001b[1;32m     84\u001b[0m \u001b[0;34m\u001b[0m\u001b[0m\n\u001b[1;32m     85\u001b[0m     \u001b[0mgroups\u001b[0m \u001b[0;34m=\u001b[0m \u001b[0marr\u001b[0m\u001b[0;34m.\u001b[0m\u001b[0mindex\u001b[0m\u001b[0;34m.\u001b[0m\u001b[0mdroplevel\u001b[0m\u001b[0;34m(\u001b[0m\u001b[0mlist\u001b[0m\u001b[0;34m(\u001b[0m\u001b[0mset\u001b[0m\u001b[0;34m(\u001b[0m\u001b[0marr\u001b[0m\u001b[0;34m.\u001b[0m\u001b[0mindex\u001b[0m\u001b[0;34m.\u001b[0m\u001b[0mnames\u001b[0m\u001b[0;34m)\u001b[0m \u001b[0;34m-\u001b[0m \u001b[0mset\u001b[0m\u001b[0;34m(\u001b[0m\u001b[0mprot_attr\u001b[0m\u001b[0;34m)\u001b[0m\u001b[0;34m)\u001b[0m\u001b[0;34m)\u001b[0m\u001b[0;34m\u001b[0m\u001b[0;34m\u001b[0m\u001b[0m\n",
      "\u001b[0;31mValueError\u001b[0m: Some of the attributes provided are not present in the dataset. Expected a subset of:\n[]\nGot:\n['driver_race']"
     ]
    }
   ],
   "source": [
    "from aif360.sklearn.postprocessing import CalibratedEqualizedOdds\n",
    "\n",
    "coln = ['driver_race'] # stupid workaround for make it working\n",
    "X_test.index.names = coln\n",
    "ceo = CalibratedEqualizedOdds(prot_attr='driver_race').fit(X_test, pd.Series(y_pred))"
   ]
  },
  {
   "cell_type": "code",
   "execution_count": null,
   "metadata": {},
   "outputs": [],
   "source": [
    "# datasets\n",
    "X = data[data.columns.difference(['is_arrested'])]\n",
    "y = data['is_arrested']\n",
    "\n",
    "X_train, X_test, y_train, y_test = train_test_split(X, y, test_size=0.2, random_state=42)\n",
    "clf = LogisticRegression(class_weight=cweights, max_iter=1000).fit(X_train, y_train)\n",
    "y_pred = clf.predict(X_test)\n",
    "\n",
    "# ai360\n",
    "priv_groups = [{'driver_race': 1}]\n",
    "unpriv_groups = [{'driver_race': 0}]\n",
    "dataset = pd.concat([X_test, y_test], axis=1)\n",
    "dataset = StandardDataset(dataset, label_name='is_arrested', favorable_classes=[0], protected_attribute_names=['driver_race'], privileged_classes=[[1]])\n",
    "classified_dataset = dataset.copy()\n",
    "classified_dataset.labels = y_pred\n",
    "\n",
    "# metrics\n",
    "class_metric = ClassificationMetric(dataset, classified_dataset, unprivileged_groups=unpriv_groups, privileged_groups=priv_groups)\n",
    "print(  \n",
    "    ' FOR:', class_metric.false_omission_rate(privileged=1),'\\n',\n",
    "    'FORD:', class_metric.false_omission_rate_difference(),'\\n',\n",
    "    'Accuracy score:', clf.score(X_test, y_test)\n",
    "    )"
   ]
  }
 ],
 "metadata": {
  "interpreter": {
   "hash": "916dbcbb3f70747c44a77c7bcd40155683ae19c65e1c03b4aa3499c5328201f1"
  },
  "kernelspec": {
   "display_name": "Python 3.7.3 64-bit",
   "language": "python",
   "name": "python3"
  },
  "language_info": {
   "codemirror_mode": {
    "name": "ipython",
    "version": 3
   },
   "file_extension": ".py",
   "mimetype": "text/x-python",
   "name": "python",
   "nbconvert_exporter": "python",
   "pygments_lexer": "ipython3",
   "version": "3.7.3"
  },
  "orig_nbformat": 4
 },
 "nbformat": 4,
 "nbformat_minor": 2
}
